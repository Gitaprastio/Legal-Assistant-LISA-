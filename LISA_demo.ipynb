{
  "nbformat": 4,
  "nbformat_minor": 0,
  "metadata": {
    "colab": {
      "name": "LISA_demo.ipynb",
      "provenance": [],
      "include_colab_link": true
    },
    "kernelspec": {
      "name": "python3",
      "display_name": "Python 3"
    }
  },
  "cells": [
    {
      "cell_type": "markdown",
      "metadata": {
        "id": "view-in-github",
        "colab_type": "text"
      },
      "source": [
        "<a href=\"https://colab.research.google.com/github/Gitaprastio/Legal-Assistant-LISA-/blob/master/LISA_demo.ipynb\" target=\"_parent\"><img src=\"https://colab.research.google.com/assets/colab-badge.svg\" alt=\"Open In Colab\"/></a>"
      ]
    },
    {
      "cell_type": "code",
      "metadata": {
        "id": "iUJ3TjdSotGy",
        "colab_type": "code",
        "colab": {
          "base_uri": "https://localhost:8080/",
          "height": 217
        },
        "outputId": "8921660f-7f5a-4130-afdd-42fed492c4ce"
      },
      "source": [
        "!pip3 install pytesseract\n",
        "!sudo apt-get install tesseract-ocr"
      ],
      "execution_count": null,
      "outputs": [
        {
          "output_type": "stream",
          "text": [
            "Requirement already satisfied: pytesseract in /usr/local/lib/python3.6/dist-packages (0.3.0)\n",
            "Requirement already satisfied: Pillow in /usr/local/lib/python3.6/dist-packages (from pytesseract) (4.3.0)\n",
            "Requirement already satisfied: olefile in /usr/local/lib/python3.6/dist-packages (from Pillow->pytesseract) (0.46)\n",
            "Reading package lists... Done\n",
            "Building dependency tree       \n",
            "Reading state information... Done\n",
            "tesseract-ocr is already the newest version (4.00~git2288-10f4998a-2).\n",
            "The following package was automatically installed and is no longer required:\n",
            "  libnvidia-common-430\n",
            "Use 'sudo apt autoremove' to remove it.\n",
            "0 upgraded, 0 newly installed, 0 to remove and 7 not upgraded.\n"
          ],
          "name": "stdout"
        }
      ]
    },
    {
      "cell_type": "code",
      "metadata": {
        "id": "cnjtjv-6qBhB",
        "colab_type": "code",
        "colab": {
          "base_uri": "https://localhost:8080/",
          "height": 1000
        },
        "outputId": "b3d3b5c5-3dbe-4b4f-a23e-11ad54c43c20"
      },
      "source": [
        "#MASUKAN FILE JPG DISINI\n",
        "your_url_doc = \"http://fwi.or.id/wp-content/uploads/2018/05/121_k_tun_2017_koreksi_terakhir.pdf-1.jpg\"\n",
        "\n",
        "from skimage import io, img_as_ubyte\n",
        "from PIL import Image\n",
        "import pytesseract\n",
        "import argparse\n",
        "import cv2\n",
        "import os\n",
        "\n",
        "def url_to_image(url):\n",
        "    image = io.imread(url)\n",
        "    return img_as_ubyte(image)\n",
        "\n",
        "def url_to_image_scikit(url):\n",
        "  return io.imread(url)\n",
        "\n",
        "def saved_to_file(directory, text, filename):\n",
        "    if not os.path.exists(directory):\n",
        "        os.makedirs(directory)\n",
        "    filename = filename.replace('.jpg', '.txt')\n",
        "    filepath = os.path.join(directory, filename)\n",
        "    txt_file = open(filepath, \"w\")\n",
        "    txt_file.write(text)\n",
        "    txt_file.close()\n",
        "\n",
        "\n",
        "# image = cv2.imread(your_image_path)\n",
        "image = url_to_image(your_url_doc)\n",
        "try:\n",
        "  gray = cv2.cvtColor(image, cv2.COLOR_BGR2GRAY)\n",
        "except:\n",
        "  gray = image\n",
        "gray = cv2.threshold(gray, 0, 255,\n",
        "  cv2.THRESH_BINARY | cv2.THRESH_OTSU)[1]\n",
        "\n",
        "filename = \"{}.png\".format(os.getpid())\n",
        "cv2.imwrite(filename, gray)\n",
        "text = pytesseract.image_to_string(Image.open(filename))\n",
        "os.remove(filename)\n",
        "\n",
        "directory = \"/content/\"\n",
        "#filename = your_image_path.split('/')[-1]\n",
        "saved_to_file(directory, text, filename)\n",
        "\n",
        "print(text)"
      ],
      "execution_count": null,
      "outputs": [
        {
          "output_type": "stream",
          "text": [
            "Direktori Putusan Mahkamah Agung Republik Indonesia\n",
            "\n",
            "putusan.mahkamahagung.go.id\n",
            "\n",
            " \n",
            "\n",
            "PUTUSAN\n",
            "Nomor 121 K/TUN/2017\n",
            "\n",
            "DEMI KEADILAN BERDASARKAN KETUHANAN YANG MAHA ESA\n",
            "MAHKAMAH AGUNG\n",
            "Memeriksa perkara tata usaha negara dalam tingkat kasasi telah memutuskan\n",
            "sebagai berikut dalam perkara:\n",
            "\n",
            "KEMENTERIAN AGRARIA DAN TATA RUANG/BADAN\n",
            "\n",
            "PERTANAHAN NASIONAL, berkedudukan di Jalan Sisingamangaraja\n",
            "\n",
            "No. 2 Kebayoran Baru Jakarta Selatan. Diwakili oleh M. Noor Marzuki,\n",
            "\n",
            "selaku Sekretaris Jenderal Kementerian Agraria dan Tata Ruang / Badan\n",
            "\n",
            "Pertanahan Nasional selaku Atasan Pejabat Pengelola Informasi dan\n",
            "\n",
            "Dokumentasi, dalam hal ini memberi kuasa kepada :\n",
            "\n",
            "1. Deddy Setiady, S.H., Direktur Penanganan Perkara Ruang dan\n",
            "Tanah;\n",
            "\n",
            "2. Ir. Suyus Windayana, M. App.Sc., Kepala Pusat Data dan Informasi\n",
            "Pertanahan, Tata Ruang dan Lahan Pertanian Pangan Berkelanjutan\n",
            "selaku Pejabat Pengelola Informasi dan Dokumentasi;\n",
            "\n",
            "3. Karsono, A. Ptnh., S.H., M.Si., Kepala Bagian Advokasi dan\n",
            "Dokumentasi Hukum pada Biro Hukum dan Hubungan Masyarakat;\n",
            "\n",
            "4. Tanti Wahyuni, S. Kom., Pit. Kepata Bidang Pengembangan dan\n",
            "Standarisasi Sistem Teknologi Informasi;\n",
            "\n",
            "5. Budi Wibowo, S.H., M. AP., M.Sc., Kepala Sub Bagian Advokasi\n",
            "Hukum;\n",
            "\n",
            "6. Pratomo Adi Wibowo, S. SiT., M. Eng., Kepala Sub Bagian Program\n",
            "pada Sekretariat Inspektorat Jenderal;\n",
            "\n",
            "7. Hadiat Sondara Danasaputra, S.H., M.H., Kepala Sub Direktorat\n",
            "Penanganan Perkara Tanah dan Ruang Wilayah 1;\n",
            "\n",
            "8. Lucky Ariansa, S.H., M.H., Analis Hukum Pertanahan;\n",
            "\n",
            "9. Marcellinus Wiendarto, S.H., M.H., Analis Hukum Pertanahan;\n",
            "\n",
            "10. Pandu Adi Purnomo, S.H., Analis Hukum Pertanahan;\n",
            "\n",
            "11. Bugi Riyantoro, S.H., Analis Hukum Pertanahan;\n",
            "\n",
            "12. Eggy Muhammad Noor, S.H., Analis Hukum dan Perundang-\n",
            "Undangan;\n",
            "\n",
            "13. Fildariza, S. Kom., Analis Sistem Informasi Pertanahan;\n",
            "\n",
            "Kesemuanya berkewarganegaraan Indonesia, Pekerjaan Pegawai Negeri\n",
            "\n",
            "Sipil pada Kementerian Agraria dan Tata Ruang/Badan Pertanahan\n",
            "\n",
            "Nasional, berkedudukan di Jalan Sisingamangaraja No. 2 Kebayoran\n",
            "\n",
            "Halaman 1 dari 14 halaman Putusan Nomor 121 K/TUN/2017\n",
            "\n",
            "Disclaimer\n",
            "\n",
            "Kepaniteraan Mahkamah Agung Republik indonesia berusaha untuk selalu mencantumkan informasi paling kini dan akurat sebagai bentuk komitmen Mahkamah Agung untuk pelayanan publik, transparansi dan akuntabilitas pelaksanaan fungsi peradifan. |\n",
            "Dalam hal Anda menemukan inakurasi informasi yang termuat pada situs ini atau informasi yang seharusnya ada, namun belum tersedia, maka harap segera hubungi Kepaniteraan Mahkamah Agung Ri melalui :\n",
            "\n",
            "Email : kepaniteraan@mahkamahagung.go.id\n",
            "\n",
            "Telp : 021-384 3348 (ext 318) Halaman 7\n"
          ],
          "name": "stdout"
        }
      ]
    },
    {
      "cell_type": "code",
      "metadata": {
        "id": "C5VHeybugsOG",
        "colab_type": "code",
        "colab": {}
      },
      "source": [
        "!pip install gensim\n",
        "from gensim.summarization.summarizer import summarize\n",
        "print(summarize(text))"
      ],
      "execution_count": null,
      "outputs": []
    }
  ]
}